{
 "cells": [
  {
   "cell_type": "code",
   "execution_count": 1,
   "id": "12a358a8",
   "metadata": {},
   "outputs": [],
   "source": [
    "import matplotlib.pyplot as plt\n",
    "import pandas as pd\n",
    "import numpy as np\n",
    "from collections import Counter\n",
    "import random\n",
    "import math\n",
    "from timeit import default_timer as timer"
   ]
  },
  {
   "cell_type": "code",
   "execution_count": 2,
   "id": "22e47a8d",
   "metadata": {},
   "outputs": [],
   "source": [
    "inputString = '''\n",
    "1 1 1\n",
    "1 6 1\n",
    "2 1 2\n",
    "3 9 2\n",
    "3 10 2\n",
    "4 6 1\n",
    "5 6 2\n",
    "7 2 2\n",
    "8 1 1\n",
    "8 9 1\n",
    "9 1 1\n",
    "9 9 1\n",
    "9 10 2\n",
    "10 3 1\n",
    "10 5 2\n",
    "'''\n",
    "dataFromStr = [[int(e) for e in textline.split(' ')] for textline in inputString.strip().split('\\n')]"
   ]
  },
  {
   "cell_type": "code",
   "execution_count": 3,
   "id": "8d3637b5",
   "metadata": {},
   "outputs": [
    {
     "data": {
      "text/plain": [
       "[[1, 1, 1],\n",
       " [1, 6, 1],\n",
       " [2, 1, 2],\n",
       " [3, 9, 2],\n",
       " [3, 10, 2],\n",
       " [4, 6, 1],\n",
       " [5, 6, 2],\n",
       " [7, 2, 2],\n",
       " [8, 1, 1],\n",
       " [8, 9, 1],\n",
       " [9, 1, 1],\n",
       " [9, 9, 1],\n",
       " [9, 10, 2],\n",
       " [10, 3, 1],\n",
       " [10, 5, 2]]"
      ]
     },
     "execution_count": 3,
     "metadata": {},
     "output_type": "execute_result"
    }
   ],
   "source": [
    "dataFromStr"
   ]
  },
  {
   "cell_type": "code",
   "execution_count": 4,
   "id": "d3c815f9",
   "metadata": {},
   "outputs": [
    {
     "name": "stdout",
     "output_type": "stream",
     "text": [
      "[(1, 1), (1, 6), (4, 6), (8, 1), (8, 9), (9, 1), (9, 9), (10, 3)]\n",
      "[(2, 1), (3, 9), (3, 10), (5, 6), (7, 2), (9, 10), (10, 5)]\n"
     ]
    }
   ],
   "source": [
    "E1 = [tuple(row[:-1]) for row in dataFromStr if row[2]==1]\n",
    "E2 = [tuple(row[:-1]) for row in dataFromStr if row[2]==2]\n",
    "print(E1)\n",
    "print(E2)"
   ]
  },
  {
   "cell_type": "code",
   "execution_count": 5,
   "id": "9f6abab9",
   "metadata": {},
   "outputs": [],
   "source": [
    "inputString = '''\n",
    "1 1 \n",
    "1 6 \n",
    "2 1 \n",
    "3 9 \n",
    "3 10\n",
    "4 6 \n",
    "5 6 \n",
    "7 2 \n",
    "8 1 \n",
    "8 9 \n",
    "9 1 \n",
    "9 9 \n",
    "9 10 \n",
    "10 3 \n",
    "10 5 \n",
    "'''\n",
    "dataFromStrNoClass = [[int(e) for e in textline.strip().split(' ')] for textline in inputString.strip().split('\\n')]"
   ]
  },
  {
   "cell_type": "code",
   "execution_count": 6,
   "id": "f5cc3fc4",
   "metadata": {},
   "outputs": [
    {
     "data": {
      "text/plain": [
       "[[1, 1],\n",
       " [1, 6],\n",
       " [2, 1],\n",
       " [3, 9],\n",
       " [3, 10],\n",
       " [4, 6],\n",
       " [5, 6],\n",
       " [7, 2],\n",
       " [8, 1],\n",
       " [8, 9],\n",
       " [9, 1],\n",
       " [9, 9],\n",
       " [9, 10],\n",
       " [10, 3],\n",
       " [10, 5]]"
      ]
     },
     "execution_count": 6,
     "metadata": {},
     "output_type": "execute_result"
    }
   ],
   "source": [
    "dataFromStrNoClass"
   ]
  },
  {
   "cell_type": "code",
   "execution_count": 7,
   "id": "74b53e14",
   "metadata": {},
   "outputs": [],
   "source": [
    "df = pd.DataFrame(\n",
    "    data=dataFromStr,\n",
    "    columns=['x','y','label']\n",
    ")"
   ]
  },
  {
   "cell_type": "code",
   "execution_count": 8,
   "id": "bea41601",
   "metadata": {},
   "outputs": [
    {
     "data": {
      "text/html": [
       "<div>\n",
       "<style scoped>\n",
       "    .dataframe tbody tr th:only-of-type {\n",
       "        vertical-align: middle;\n",
       "    }\n",
       "\n",
       "    .dataframe tbody tr th {\n",
       "        vertical-align: top;\n",
       "    }\n",
       "\n",
       "    .dataframe thead th {\n",
       "        text-align: right;\n",
       "    }\n",
       "</style>\n",
       "<table border=\"1\" class=\"dataframe\">\n",
       "  <thead>\n",
       "    <tr style=\"text-align: right;\">\n",
       "      <th></th>\n",
       "      <th>x</th>\n",
       "      <th>y</th>\n",
       "      <th>label</th>\n",
       "    </tr>\n",
       "  </thead>\n",
       "  <tbody>\n",
       "    <tr>\n",
       "      <th>0</th>\n",
       "      <td>1</td>\n",
       "      <td>1</td>\n",
       "      <td>1</td>\n",
       "    </tr>\n",
       "    <tr>\n",
       "      <th>1</th>\n",
       "      <td>1</td>\n",
       "      <td>6</td>\n",
       "      <td>1</td>\n",
       "    </tr>\n",
       "    <tr>\n",
       "      <th>2</th>\n",
       "      <td>2</td>\n",
       "      <td>1</td>\n",
       "      <td>2</td>\n",
       "    </tr>\n",
       "    <tr>\n",
       "      <th>3</th>\n",
       "      <td>3</td>\n",
       "      <td>9</td>\n",
       "      <td>2</td>\n",
       "    </tr>\n",
       "    <tr>\n",
       "      <th>4</th>\n",
       "      <td>3</td>\n",
       "      <td>10</td>\n",
       "      <td>2</td>\n",
       "    </tr>\n",
       "    <tr>\n",
       "      <th>5</th>\n",
       "      <td>4</td>\n",
       "      <td>6</td>\n",
       "      <td>1</td>\n",
       "    </tr>\n",
       "    <tr>\n",
       "      <th>6</th>\n",
       "      <td>5</td>\n",
       "      <td>6</td>\n",
       "      <td>2</td>\n",
       "    </tr>\n",
       "    <tr>\n",
       "      <th>7</th>\n",
       "      <td>7</td>\n",
       "      <td>2</td>\n",
       "      <td>2</td>\n",
       "    </tr>\n",
       "    <tr>\n",
       "      <th>8</th>\n",
       "      <td>8</td>\n",
       "      <td>1</td>\n",
       "      <td>1</td>\n",
       "    </tr>\n",
       "    <tr>\n",
       "      <th>9</th>\n",
       "      <td>8</td>\n",
       "      <td>9</td>\n",
       "      <td>1</td>\n",
       "    </tr>\n",
       "    <tr>\n",
       "      <th>10</th>\n",
       "      <td>9</td>\n",
       "      <td>1</td>\n",
       "      <td>1</td>\n",
       "    </tr>\n",
       "    <tr>\n",
       "      <th>11</th>\n",
       "      <td>9</td>\n",
       "      <td>9</td>\n",
       "      <td>1</td>\n",
       "    </tr>\n",
       "    <tr>\n",
       "      <th>12</th>\n",
       "      <td>9</td>\n",
       "      <td>10</td>\n",
       "      <td>2</td>\n",
       "    </tr>\n",
       "    <tr>\n",
       "      <th>13</th>\n",
       "      <td>10</td>\n",
       "      <td>3</td>\n",
       "      <td>1</td>\n",
       "    </tr>\n",
       "    <tr>\n",
       "      <th>14</th>\n",
       "      <td>10</td>\n",
       "      <td>5</td>\n",
       "      <td>2</td>\n",
       "    </tr>\n",
       "  </tbody>\n",
       "</table>\n",
       "</div>"
      ],
      "text/plain": [
       "     x   y  label\n",
       "0    1   1      1\n",
       "1    1   6      1\n",
       "2    2   1      2\n",
       "3    3   9      2\n",
       "4    3  10      2\n",
       "5    4   6      1\n",
       "6    5   6      2\n",
       "7    7   2      2\n",
       "8    8   1      1\n",
       "9    8   9      1\n",
       "10   9   1      1\n",
       "11   9   9      1\n",
       "12   9  10      2\n",
       "13  10   3      1\n",
       "14  10   5      2"
      ]
     },
     "execution_count": 8,
     "metadata": {},
     "output_type": "execute_result"
    }
   ],
   "source": [
    "df"
   ]
  },
  {
   "cell_type": "code",
   "execution_count": 25,
   "id": "be9b24bf",
   "metadata": {},
   "outputs": [
    {
     "data": {
      "text/plain": [
       "<matplotlib.collections.PathCollection at 0x1c5dedb4700>"
      ]
     },
     "execution_count": 25,
     "metadata": {},
     "output_type": "execute_result"
    },
    {
     "data": {
      "image/png": "[encoded data removed]",
      "text/plain": [
       "<Figure size 432x288 with 1 Axes>"
      ]
     },
     "metadata": {
      "needs_background": "light"
     },
     "output_type": "display_data"
    }
   ],
   "source": [
    "fig, ax = plt.subplots(1,1)\n",
    "\n",
    "# ax.scatter(x=df['x'], y=df['y'])\n",
    "\n",
    "ax.scatter(df['x'], df['y'])\n"
   ]
  },
  {
   "cell_type": "code",
   "execution_count": 23,
   "id": "69d418d4",
   "metadata": {},
   "outputs": [
    {
     "data": {
      "text/plain": [
       "<matplotlib.collections.PathCollection at 0x1c5dedabfd0>"
      ]
     },
     "execution_count": 23,
     "metadata": {},
     "output_type": "execute_result"
    },
    {
     "data": {
      "image/png": "[encoded data removed]",
      "text/plain": [
       "<Figure size 432x288 with 1 Axes>"
      ]
     },
     "metadata": {
      "needs_background": "light"
     },
     "output_type": "display_data"
    }
   ],
   "source": [
    "fig, ax = plt.subplots(1,1)\n",
    "\n",
    "colors = {1: 'red', 2: 'blue'}\n",
    "\n",
    "# ax.scatter(x=df['x'], y=df['y'])\n",
    "\n",
    "ax.scatter(df['x'], df['y'], c=df['label'].map(colors))"
   ]
  },
  {
   "cell_type": "code",
   "execution_count": 9,
   "id": "eb513744",
   "metadata": {},
   "outputs": [],
   "source": [
    "def get_initial_means(array, method='rand'):\n",
    "    \"\"\"\n",
    "    Picks k random points from the 2D array \n",
    "    (without replacement) to use as initial \n",
    "    cluster means\n",
    "\n",
    "    params:\n",
    "    array = numpy.ndarray[numpy.ndarray[float]] - m x n | datapoints x features\n",
    "\n",
    "    k = int\n",
    "\n",
    "    returns:\n",
    "    initial_means = numpy.ndarray[numpy.ndarray[float]]\n",
    "    \"\"\"\n",
    "    # TODO: finish this function\n",
    "    ret = random.sample(array, k=3)\n",
    "    return np.array(ret)"
   ]
  },
  {
   "cell_type": "code",
   "execution_count": 10,
   "id": "0718beaf",
   "metadata": {},
   "outputs": [
    {
     "data": {
      "text/plain": [
       "array([[8, 1],\n",
       "       [9, 9],\n",
       "       [7, 2]])"
      ]
     },
     "execution_count": 10,
     "metadata": {},
     "output_type": "execute_result"
    }
   ],
   "source": [
    "initMeans = get_initial_means(dataFromStrNoClass)\n",
    "initMeans"
   ]
  },
  {
   "cell_type": "code",
   "execution_count": 11,
   "id": "e28c5479",
   "metadata": {},
   "outputs": [
    {
     "data": {
      "text/plain": [
       "<matplotlib.collections.PathCollection at 0x211ce0b9f70>"
      ]
     },
     "execution_count": 11,
     "metadata": {},
     "output_type": "execute_result"
    },
    {
     "data": {
      "image/png": "[encoded data removed]",
      "text/plain": [
       "<Figure size 432x288 with 1 Axes>"
      ]
     },
     "metadata": {
      "needs_background": "light"
     },
     "output_type": "display_data"
    }
   ],
   "source": [
    "fig, ax = plt.subplots(1,1)\n",
    "\n",
    "colors = {1: 'red', 2: 'blue'}\n",
    "\n",
    "ax.scatter(df['x'], df['y'], c=df['label'].map(colors))\n",
    "ax.scatter([initMeans[0][0]], [initMeans[0][1]], marker='x',c='orange')\n",
    "ax.scatter([initMeans[1][0]], [initMeans[1][1]], marker='x',c='cyan')\n",
    "ax.scatter([initMeans[2][0]], [initMeans[2][1]], marker='x',c='black')"
   ]
  },
  {
   "cell_type": "code",
   "execution_count": 18,
   "id": "5651ac52",
   "metadata": {},
   "outputs": [],
   "source": [
    "def k_means_step(X, k, means, DEBUG=False):\n",
    "    \"\"\"\n",
    "    A single update/step of the K-means algorithm\n",
    "    Based on a input X and current mean estimates,\n",
    "    predict clusters for each of the examples in X and \n",
    "    calculate new means. \n",
    "    params:\n",
    "    X = numpy.ndarray[numpy.ndarray[float]] - m x n | pixels x features (already flattened)\n",
    "        (15,2)\n",
    "    k = int\n",
    "    means = numpy.ndarray[numpy.ndarray[float]] - k x n\n",
    "        (2,2)\n",
    "\n",
    "    returns:\n",
    "    (new_means, clusters)\n",
    "    new_means = numpy.ndarray[numpy.ndarray[float]] - k x n\n",
    "    clusters = numpy.ndarray[int] - m sized vector\n",
    "    \"\"\"\n",
    "    dataset = X\n",
    "\n",
    "    if DEBUG:\n",
    "        print('====== BEGIN K_M STEP ======')\n",
    "        print('Step 2: Map points to closest init-cluster-mean by Euclidean Distance')\n",
    "        print(f'Dists from each point to each Init-Centroid in the format of [point] -> (cluster label, dist to that cluster\\'s centroid):')\n",
    "    \n",
    "    pointToCluster = {} # x,y point example from dataset -> cluster label\n",
    "    for point in dataset:\n",
    "        dists = [( round(np.linalg.norm(point-means[i]),3), i) for i in range(k)]\n",
    "        \n",
    "        if DEBUG:\n",
    "            print(f'{point} : {[(l,d) for d,l in dists]}')\n",
    "        \n",
    "        bestDist = min(dists)\n",
    "        closestClusterLabel = bestDist[1]\n",
    "        pointToCluster[tuple(point.tolist())] = closestClusterLabel\n",
    "    \n",
    "    if DEBUG:\n",
    "        print('\\nPoint to Cluster Assignments:')\n",
    "        print(pointToCluster)\n",
    "        print('-'*15)\n",
    "        print('Step 3: Recalibrate cluster centers')\n",
    "        print('Cluster Means')\n",
    "    \n",
    "    clusterMeans = {} # clusterLabel -> [x_mean, y_mean]\n",
    "    clusterLabels = set(pointToCluster.values())\n",
    "    for clusterLabel in clusterLabels:\n",
    "        clusterPoints = [point for point,cluster in pointToCluster.items() if cluster==clusterLabel]\n",
    "        clusterMean = np.mean(clusterPoints, axis=0)\n",
    "        clusterMeans[clusterLabel] = clusterMean\n",
    "        if DEBUG:\n",
    "            print('\\nCluster', clusterLabel)\n",
    "            print('Points', clusterPoints)\n",
    "            print('XY Mean', clusterMean)\n",
    "     \n",
    "    if DEBUG:\n",
    "        print('\\nPoint to Cluster Assignments After Min-MH-Distance Reassignment:')\n",
    "        print(pointToCluster)\n",
    "    \n",
    "    curClusters = [\n",
    "        [point for point,label in pointToCluster.items() if label==clusterLabel]\n",
    "        for clusterLabel in clusterLabels\n",
    "    ]\n",
    "    \n",
    "    return list(clusterMeans.values()), curClusters"
   ]
  },
  {
   "cell_type": "code",
   "execution_count": 19,
   "id": "c132366b",
   "metadata": {},
   "outputs": [
    {
     "name": "stdout",
     "output_type": "stream",
     "text": [
      "====== BEGIN K_M STEP ======\n",
      "Step 2: Map points to closest init-cluster-mean by Euclidean Distance\n",
      "Dists from each point to each Init-Centroid in the format of [point] -> (cluster label, dist to that cluster's centroid):\n",
      "[1 1] : [(0, 7.0), (1, 11.314), (2, 6.083)]\n",
      "[1 6] : [(0, 8.602), (1, 8.544), (2, 7.211)]\n",
      "[2 1] : [(0, 6.0), (1, 10.63), (2, 5.099)]\n",
      "[3 9] : [(0, 9.434), (1, 6.0), (2, 8.062)]\n",
      "[ 3 10] : [(0, 10.296), (1, 6.083), (2, 8.944)]\n",
      "[4 6] : [(0, 6.403), (1, 5.831), (2, 5.0)]\n",
      "[5 6] : [(0, 5.831), (1, 5.0), (2, 4.472)]\n",
      "[7 2] : [(0, 1.414), (1, 7.28), (2, 0.0)]\n",
      "[8 1] : [(0, 0.0), (1, 8.062), (2, 1.414)]\n",
      "[8 9] : [(0, 8.0), (1, 1.0), (2, 7.071)]\n",
      "[9 1] : [(0, 1.0), (1, 8.0), (2, 2.236)]\n",
      "[9 9] : [(0, 8.062), (1, 0.0), (2, 7.28)]\n",
      "[ 9 10] : [(0, 9.055), (1, 1.0), (2, 8.246)]\n",
      "[10  3] : [(0, 2.828), (1, 6.083), (2, 3.162)]\n",
      "[10  5] : [(0, 4.472), (1, 4.123), (2, 4.243)]\n",
      "\n",
      "Point to Cluster Assignments:\n",
      "{(1, 1): 2, (1, 6): 2, (2, 1): 2, (3, 9): 1, (3, 10): 1, (4, 6): 2, (5, 6): 2, (7, 2): 2, (8, 1): 0, (8, 9): 1, (9, 1): 0, (9, 9): 1, (9, 10): 1, (10, 3): 0, (10, 5): 1}\n",
      "---------------\n",
      "Step 3: Recalibrate cluster centers\n",
      "Cluster Means\n",
      "\n",
      "Cluster 0\n",
      "Points [(8, 1), (9, 1), (10, 3)]\n",
      "XY Mean [9.         1.66666667]\n",
      "\n",
      "Cluster 1\n",
      "Points [(3, 9), (3, 10), (8, 9), (9, 9), (9, 10), (10, 5)]\n",
      "XY Mean [7.         8.66666667]\n",
      "\n",
      "Cluster 2\n",
      "Points [(1, 1), (1, 6), (2, 1), (4, 6), (5, 6), (7, 2)]\n",
      "XY Mean [3.33333333 3.66666667]\n",
      "\n",
      "Point to Cluster Assignments After Min-MH-Distance Reassignment:\n",
      "{(1, 1): 2, (1, 6): 2, (2, 1): 2, (3, 9): 1, (3, 10): 1, (4, 6): 2, (5, 6): 2, (7, 2): 2, (8, 1): 0, (8, 9): 1, (9, 1): 0, (9, 9): 1, (9, 10): 1, (10, 3): 0, (10, 5): 1}\n"
     ]
    },
    {
     "data": {
      "text/plain": [
       "([array([9.        , 1.66666667]),\n",
       "  array([7.        , 8.66666667]),\n",
       "  array([3.33333333, 3.66666667])],\n",
       " [[(8, 1), (9, 1), (10, 3)],\n",
       "  [(3, 9), (3, 10), (8, 9), (9, 9), (9, 10), (10, 5)],\n",
       "  [(1, 1), (1, 6), (2, 1), (4, 6), (5, 6), (7, 2)]])"
      ]
     },
     "execution_count": 19,
     "metadata": {},
     "output_type": "execute_result"
    }
   ],
   "source": [
    "k_means_step(np.array(dataFromStrNoClass), k=3, means=initMeans, DEBUG=True)"
   ]
  },
  {
   "cell_type": "code",
   "execution_count": 20,
   "id": "095bbf0f",
   "metadata": {},
   "outputs": [],
   "source": [
    "def k_means_segment(dataset, k=2, initial_means=None, DEBUG=False):\n",
    "    if initial_means is None:\n",
    "        print('creating initial means...')\n",
    "        initial_means = get_initial_means(dataset, k)\n",
    "    \n",
    "    if DEBUG:\n",
    "        print('init means')\n",
    "        print(initial_means)\n",
    "        print('-'*15)\n",
    "\n",
    "    print('1st call to k_means')\n",
    "    curMeans, curClusters = k_means_step(dataset, k, initial_means, DEBUG=True)\n",
    "    vizIter(curMeans, curClusters)\n",
    "    if DEBUG:\n",
    "        print('curMeans')\n",
    "        print(curMeans)\n",
    "        print('curClusters')\n",
    "        print(curClusters)\n",
    "        print()\n",
    "    \n",
    "    iterStyle = 2\n",
    "    if iterStyle == 2:\n",
    "        print('2nd call to k_means')\n",
    "        curMeans, curClusters = k_means_step(dataset, k, curMeans, DEBUG=True)\n",
    "        vizIter(curMeans, curClusters)\n",
    "        prevClusters = tuple([tuple(c) for c in curClusters])\n",
    "    else:\n",
    "        prevClusters = tuple([tuple(c) for c in curClusters])\n",
    "        for i in range(10):\n",
    "            curMeans, curClusters = k_means_step(dataset, k, curMeans, DEBUG=True)\n",
    "            vizIter(curMeans, curClusters)\n",
    "            if prevClusters == tuple([tuple(c) for c in curClusters]):\n",
    "                break\n",
    "            prevClusters = tuple([tuple(c) for c in curClusters])\n",
    "    \n",
    "    if DEBUG:\n",
    "        print('====== END K_M STEPPING ======')\n",
    "        print('curMeans')\n",
    "        print(curMeans)\n",
    "        print('curClusters')\n",
    "        print(curClusters)\n",
    "    \n",
    "    return curMeans, prevClusters"
   ]
  },
  {
   "cell_type": "code",
   "execution_count": 22,
   "id": "034ac25e",
   "metadata": {},
   "outputs": [],
   "source": [
    "def vizIter(curMeans, clusterData):\n",
    "    fig, ax = plt.subplots(1,1)\n",
    "    colors = ['red','blue','green']\n",
    "    for i,clusterXYs in enumerate(clusterData):\n",
    "        xValues_e1 = [xy[0] for xy in clusterXYs if xy in E1]\n",
    "        yValues_e1 = [xy[1] for xy in clusterXYs if xy in E1]\n",
    "        ax.scatter(xValues_e1, yValues_e1,\n",
    "                   marker='*', c=colors[i], label=f'Cluster {i}, E1')\n",
    "        \n",
    "        xValues_e2 = [xy[0] for xy in clusterXYs if xy in E2]\n",
    "        yValues_e2 = [xy[1] for xy in clusterXYs if xy in E2]\n",
    "        ax.scatter(xValues_e2, yValues_e2,\n",
    "                   marker='+', c=colors[i], label=f'Cluster {i}, E2')\n",
    "        \n",
    "        thisMean = curMeans[i]\n",
    "        ax.scatter([thisMean[0]], [thisMean[1]], marker='x', c=colors[i], label=f'Cluster {i} Centroid')\n",
    "#     fig.legend()\n",
    "    ax.legend(loc='center left', bbox_to_anchor=(1, 0.5))\n",
    "    plt.tight_layout()\n",
    "    plt.show()\n",
    "    return"
   ]
  },
  {
   "cell_type": "code",
   "execution_count": 23,
   "id": "da3b15fe",
   "metadata": {},
   "outputs": [],
   "source": [
    "def vizInit(datapoints, initMeans):\n",
    "    if type(initMeans) != list:\n",
    "        initMeans = initMeans.tolist()\n",
    "    \n",
    "    datapoints = [d for d in datapoints if d not in initMeans]\n",
    "    \n",
    "    fig, ax = plt.subplots(1,1)\n",
    "    \n",
    "    xValues = [xy[0] for xy in datapoints]\n",
    "    yValues = [xy[1] for xy in datapoints]\n",
    "    ax.scatter(xValues, yValues)\n",
    "    \n",
    "    mean_xs = [xy[0] for xy in initMeans]\n",
    "    mean_ys = [xy[1] for xy in initMeans]\n",
    "    ax.scatter(mean_xs, mean_ys, c='red', label='Cluster Centroid')\n",
    "    \n",
    "    fig.legend()\n",
    "    fig.suptitle('Initial Centroids of Clusters')\n",
    "    plt.tight_layout()\n",
    "    plt.show()\n",
    "    return"
   ]
  },
  {
   "cell_type": "code",
   "execution_count": 348,
   "id": "7cc5b149",
   "metadata": {},
   "outputs": [],
   "source": [
    "initMeans_LucioFGC = [\n",
    "    (2, 1),\n",
    "    (7, 2),\n",
    "    (9, 10)\n",
    "]\n",
    "initMeans = get_initial_means(dataFromStrNoClass)"
   ]
  },
  {
   "cell_type": "code",
   "execution_count": 402,
   "id": "cee93618",
   "metadata": {},
   "outputs": [
    {
     "name": "stdout",
     "output_type": "stream",
     "text": [
      "[[1, 1], [3, 9], [9, 10]]\n"
     ]
    }
   ],
   "source": [
    "initMeans = [\n",
    "    [ 1,  1],\n",
    "    [ 3,  9],\n",
    "    [ 9, 10]\n",
    "]\n",
    "print(initMeans)"
   ]
  },
  {
   "cell_type": "code",
   "execution_count": 24,
   "id": "cddeb58d",
   "metadata": {},
   "outputs": [
    {
     "data": {
      "image/png": "[encoded data removed]",
      "text/plain": [
       "<Figure size 432x288 with 1 Axes>"
      ]
     },
     "metadata": {
      "needs_background": "light"
     },
     "output_type": "display_data"
    }
   ],
   "source": [
    "vizInit(dataFromStrNoClass, initMeans)"
   ]
  },
  {
   "cell_type": "code",
   "execution_count": 25,
   "id": "336a8f3c",
   "metadata": {},
   "outputs": [
    {
     "name": "stdout",
     "output_type": "stream",
     "text": [
      "init means\n",
      "[[8 1]\n",
      " [9 9]\n",
      " [7 2]]\n",
      "---------------\n",
      "1st call to k_means\n",
      "====== BEGIN K_M STEP ======\n",
      "Step 2: Map points to closest init-cluster-mean by Euclidean Distance\n",
      "Dists from each point to each Init-Centroid in the format of [point] -> (cluster label, dist to that cluster's centroid):\n",
      "[1 1] : [(0, 7.0), (1, 11.314), (2, 6.083)]\n",
      "[1 6] : [(0, 8.602), (1, 8.544), (2, 7.211)]\n",
      "[2 1] : [(0, 6.0), (1, 10.63), (2, 5.099)]\n",
      "[3 9] : [(0, 9.434), (1, 6.0), (2, 8.062)]\n",
      "[ 3 10] : [(0, 10.296), (1, 6.083), (2, 8.944)]\n",
      "[4 6] : [(0, 6.403), (1, 5.831), (2, 5.0)]\n",
      "[5 6] : [(0, 5.831), (1, 5.0), (2, 4.472)]\n",
      "[7 2] : [(0, 1.414), (1, 7.28), (2, 0.0)]\n",
      "[8 1] : [(0, 0.0), (1, 8.062), (2, 1.414)]\n",
      "[8 9] : [(0, 8.0), (1, 1.0), (2, 7.071)]\n",
      "[9 1] : [(0, 1.0), (1, 8.0), (2, 2.236)]\n",
      "[9 9] : [(0, 8.062), (1, 0.0), (2, 7.28)]\n",
      "[ 9 10] : [(0, 9.055), (1, 1.0), (2, 8.246)]\n",
      "[10  3] : [(0, 2.828), (1, 6.083), (2, 3.162)]\n",
      "[10  5] : [(0, 4.472), (1, 4.123), (2, 4.243)]\n",
      "\n",
      "Point to Cluster Assignments:\n",
      "{(1, 1): 2, (1, 6): 2, (2, 1): 2, (3, 9): 1, (3, 10): 1, (4, 6): 2, (5, 6): 2, (7, 2): 2, (8, 1): 0, (8, 9): 1, (9, 1): 0, (9, 9): 1, (9, 10): 1, (10, 3): 0, (10, 5): 1}\n",
      "---------------\n",
      "Step 3: Recalibrate cluster centers\n",
      "Cluster Means\n",
      "\n",
      "Cluster 0\n",
      "Points [(8, 1), (9, 1), (10, 3)]\n",
      "XY Mean [9.         1.66666667]\n",
      "\n",
      "Cluster 1\n",
      "Points [(3, 9), (3, 10), (8, 9), (9, 9), (9, 10), (10, 5)]\n",
      "XY Mean [7.         8.66666667]\n",
      "\n",
      "Cluster 2\n",
      "Points [(1, 1), (1, 6), (2, 1), (4, 6), (5, 6), (7, 2)]\n",
      "XY Mean [3.33333333 3.66666667]\n",
      "\n",
      "Point to Cluster Assignments After Min-MH-Distance Reassignment:\n",
      "{(1, 1): 2, (1, 6): 2, (2, 1): 2, (3, 9): 1, (3, 10): 1, (4, 6): 2, (5, 6): 2, (7, 2): 2, (8, 1): 0, (8, 9): 1, (9, 1): 0, (9, 9): 1, (9, 10): 1, (10, 3): 0, (10, 5): 1}\n"
     ]
    },
    {
     "data": {
      "image/png": "[encoded data removed]",
      "text/plain": [
       "<Figure size 432x288 with 1 Axes>"
      ]
     },
     "metadata": {
      "needs_background": "light"
     },
     "output_type": "display_data"
    },
    {
     "name": "stdout",
     "output_type": "stream",
     "text": [
      "curMeans\n",
      "[array([9.        , 1.66666667]), array([7.        , 8.66666667]), array([3.33333333, 3.66666667])]\n",
      "curClusters\n",
      "[[(8, 1), (9, 1), (10, 3)], [(3, 9), (3, 10), (8, 9), (9, 9), (9, 10), (10, 5)], [(1, 1), (1, 6), (2, 1), (4, 6), (5, 6), (7, 2)]]\n",
      "\n",
      "2nd call to k_means\n",
      "====== BEGIN K_M STEP ======\n",
      "Step 2: Map points to closest init-cluster-mean by Euclidean Distance\n",
      "Dists from each point to each Init-Centroid in the format of [point] -> (cluster label, dist to that cluster's centroid):\n",
      "[1 1] : [(0, 8.028), (1, 9.735), (2, 3.543)]\n",
      "[1 6] : [(0, 9.098), (1, 6.566), (2, 3.3)]\n",
      "[2 1] : [(0, 7.032), (1, 9.153), (2, 2.981)]\n",
      "[3 9] : [(0, 9.475), (1, 4.014), (2, 5.344)]\n",
      "[ 3 10] : [(0, 10.269), (1, 4.216), (2, 6.342)]\n",
      "[4 6] : [(0, 6.616), (1, 4.014), (2, 2.427)]\n",
      "[5 6] : [(0, 5.897), (1, 3.333), (2, 2.867)]\n",
      "[7 2] : [(0, 2.028), (1, 6.667), (2, 4.028)]\n",
      "[8 1] : [(0, 1.202), (1, 7.732), (2, 5.375)]\n",
      "[8 9] : [(0, 7.401), (1, 1.054), (2, 7.087)]\n",
      "[9 1] : [(0, 0.667), (1, 7.923), (2, 6.263)]\n",
      "[9 9] : [(0, 7.333), (1, 2.028), (2, 7.782)]\n",
      "[ 9 10] : [(0, 8.333), (1, 2.404), (2, 8.498)]\n",
      "[10  3] : [(0, 1.667), (1, 6.412), (2, 6.7)]\n",
      "[10  5] : [(0, 3.48), (1, 4.738), (2, 6.799)]\n",
      "\n",
      "Point to Cluster Assignments:\n",
      "{(1, 1): 2, (1, 6): 2, (2, 1): 2, (3, 9): 1, (3, 10): 1, (4, 6): 2, (5, 6): 2, (7, 2): 0, (8, 1): 0, (8, 9): 1, (9, 1): 0, (9, 9): 1, (9, 10): 1, (10, 3): 0, (10, 5): 0}\n",
      "---------------\n",
      "Step 3: Recalibrate cluster centers\n",
      "Cluster Means\n",
      "\n",
      "Cluster 0\n",
      "Points [(7, 2), (8, 1), (9, 1), (10, 3), (10, 5)]\n",
      "XY Mean [8.8 2.4]\n",
      "\n",
      "Cluster 1\n",
      "Points [(3, 9), (3, 10), (8, 9), (9, 9), (9, 10)]\n",
      "XY Mean [6.4 9.4]\n",
      "\n",
      "Cluster 2\n",
      "Points [(1, 1), (1, 6), (2, 1), (4, 6), (5, 6)]\n",
      "XY Mean [2.6 4. ]\n",
      "\n",
      "Point to Cluster Assignments After Min-MH-Distance Reassignment:\n",
      "{(1, 1): 2, (1, 6): 2, (2, 1): 2, (3, 9): 1, (3, 10): 1, (4, 6): 2, (5, 6): 2, (7, 2): 0, (8, 1): 0, (8, 9): 1, (9, 1): 0, (9, 9): 1, (9, 10): 1, (10, 3): 0, (10, 5): 0}\n"
     ]
    },
    {
     "data": {
      "image/png": "[encoded data removed]",
      "text/plain": [
       "<Figure size 432x288 with 1 Axes>"
      ]
     },
     "metadata": {
      "needs_background": "light"
     },
     "output_type": "display_data"
    },
    {
     "name": "stdout",
     "output_type": "stream",
     "text": [
      "====== END K_M STEPPING ======\n",
      "curMeans\n",
      "[array([8.8, 2.4]), array([6.4, 9.4]), array([2.6, 4. ])]\n",
      "curClusters\n",
      "[[(7, 2), (8, 1), (9, 1), (10, 3), (10, 5)], [(3, 9), (3, 10), (8, 9), (9, 9), (9, 10)], [(1, 1), (1, 6), (2, 1), (4, 6), (5, 6)]]\n"
     ]
    }
   ],
   "source": [
    "startTime = timer()\n",
    "k_means_segment(np.array(dataFromStrNoClass),\n",
    "                k=3,\n",
    "                initial_means=initMeans,\n",
    "                DEBUG=True\n",
    ")\n",
    "stopTime = timer()"
   ]
  },
  {
   "cell_type": "code",
   "execution_count": 26,
   "id": "82d29651",
   "metadata": {},
   "outputs": [
    {
     "name": "stdout",
     "output_type": "stream",
     "text": [
      "0.18699119999973846 seconds to perform 2 iterations of K-Means Clustering with Mahalanobis Distance\n"
     ]
    }
   ],
   "source": [
    "print(stopTime - startTime, 'seconds to perform 2 iterations of K-Means Clustering with Mahalanobis Distance')"
   ]
  },
  {
   "cell_type": "code",
   "execution_count": null,
   "id": "87c00f6e",
   "metadata": {},
   "outputs": [],
   "source": []
  }
 ],
 "metadata": {
  "kernelspec": {
   "display_name": "Python 3 (ipykernel)",
   "language": "python",
   "name": "python3"
  },
  "language_info": {
   "codemirror_mode": {
    "name": "ipython",
    "version": 3
   },
   "file_extension": ".py",
   "mimetype": "text/x-python",
   "name": "python",
   "nbconvert_exporter": "python",
   "pygments_lexer": "ipython3",
   "version": "3.8.0"
  }
 },
 "nbformat": 4,
 "nbformat_minor": 5
}
