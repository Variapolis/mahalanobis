{
 "cells": [
  {
   "cell_type": "code",
   "execution_count": 6,
   "id": "25d84377",
   "metadata": {},
   "outputs": [],
   "source": [
    "import numpy as np\n",
    "from statistics import mean"
   ]
  },
  {
   "cell_type": "code",
   "execution_count": 3,
   "id": "49c016f1",
   "metadata": {},
   "outputs": [],
   "source": [
    "pointToCluster = {(1, 1): 0, (2, 1): 0, (7, 2): 0, (8, 1): 0, (9, 1): 0}"
   ]
  },
  {
   "cell_type": "code",
   "execution_count": 5,
   "id": "bdfcbaf8",
   "metadata": {},
   "outputs": [],
   "source": [
    "points = list(pointToCluster.keys())"
   ]
  },
  {
   "cell_type": "code",
   "execution_count": 9,
   "id": "26747a53",
   "metadata": {},
   "outputs": [
    {
     "name": "stdout",
     "output_type": "stream",
     "text": [
      "[1, 2, 7, 8, 9]\n"
     ]
    },
    {
     "data": {
      "text/plain": [
       "5.4"
      ]
     },
     "execution_count": 9,
     "metadata": {},
     "output_type": "execute_result"
    }
   ],
   "source": [
    "xVals = [xy[0] for xy in points]\n",
    "print(xVals)\n",
    "mean(xVals)"
   ]
  },
  {
   "cell_type": "code",
   "execution_count": 10,
   "id": "2beeb3d1",
   "metadata": {},
   "outputs": [
    {
     "name": "stdout",
     "output_type": "stream",
     "text": [
      "[1, 1, 2, 1, 1]\n"
     ]
    },
    {
     "data": {
      "text/plain": [
       "1.2"
      ]
     },
     "execution_count": 10,
     "metadata": {},
     "output_type": "execute_result"
    }
   ],
   "source": [
    "yVals = [xy[1] for xy in points]\n",
    "print(yVals)\n",
    "mean(yVals)"
   ]
  },
  {
   "cell_type": "code",
   "execution_count": 11,
   "id": "1f3f7773",
   "metadata": {},
   "outputs": [
    {
     "data": {
      "text/plain": [
       "array([[1, 1],\n",
       "       [2, 1],\n",
       "       [7, 2],\n",
       "       [8, 1],\n",
       "       [9, 1]])"
      ]
     },
     "execution_count": 11,
     "metadata": {},
     "output_type": "execute_result"
    }
   ],
   "source": [
    "a = np.array(points)\n",
    "a"
   ]
  },
  {
   "cell_type": "code",
   "execution_count": 14,
   "id": "67d417f9",
   "metadata": {},
   "outputs": [
    {
     "data": {
      "text/plain": [
       "array([5.4, 1.2])"
      ]
     },
     "execution_count": 14,
     "metadata": {},
     "output_type": "execute_result"
    }
   ],
   "source": [
    "meanArr = np.array([mean(xVals), mean(yVals)])\n",
    "meanArr"
   ]
  },
  {
   "cell_type": "code",
   "execution_count": 16,
   "id": "b39c120d",
   "metadata": {},
   "outputs": [
    {
     "data": {
      "text/plain": [
       "array([[-4.4, -0.2],\n",
       "       [-3.4, -0.2],\n",
       "       [ 1.6,  0.8],\n",
       "       [ 2.6, -0.2],\n",
       "       [ 3.6, -0.2]])"
      ]
     },
     "execution_count": 16,
     "metadata": {},
     "output_type": "execute_result"
    }
   ],
   "source": [
    "centered = a - meanArr\n",
    "centered"
   ]
  },
  {
   "cell_type": "code",
   "execution_count": 22,
   "id": "59cc03f7",
   "metadata": {},
   "outputs": [
    {
     "data": {
      "text/plain": [
       "array([[-4.4, -3.4,  1.6,  2.6,  3.6],\n",
       "       [-0.2, -0.2,  0.8, -0.2, -0.2]])"
      ]
     },
     "execution_count": 22,
     "metadata": {},
     "output_type": "execute_result"
    }
   ],
   "source": [
    "centered_T = np.transpose(centered)\n",
    "centered_T"
   ]
  },
  {
   "cell_type": "code",
   "execution_count": 24,
   "id": "0cd7e935",
   "metadata": {},
   "outputs": [
    {
     "data": {
      "text/plain": [
       "array([[53.2,  1.6],\n",
       "       [ 1.6,  0.8]])"
      ]
     },
     "execution_count": 24,
     "metadata": {},
     "output_type": "execute_result"
    }
   ],
   "source": [
    "M = np.matmul(centered_T, centered)\n",
    "M"
   ]
  },
  {
   "cell_type": "code",
   "execution_count": 27,
   "id": "f5265f3f",
   "metadata": {},
   "outputs": [
    {
     "data": {
      "text/plain": [
       "array([[10.64,  0.32],\n",
       "       [ 0.32,  0.16]])"
      ]
     },
     "execution_count": 27,
     "metadata": {},
     "output_type": "execute_result"
    }
   ],
   "source": [
    "ci = (1/len(points)) * M \n",
    "ci"
   ]
  },
  {
   "cell_type": "code",
   "execution_count": 35,
   "id": "e7252478",
   "metadata": {},
   "outputs": [
    {
     "data": {
      "text/plain": [
       "array([[1, 2, 7, 8, 9],\n",
       "       [1, 1, 2, 1, 1]])"
      ]
     },
     "execution_count": 35,
     "metadata": {},
     "output_type": "execute_result"
    }
   ],
   "source": [
    "x_values, y_values = zip(*points)\n",
    "covdata = np.vstack((x_values, y_values))\n",
    "covdata"
   ]
  },
  {
   "cell_type": "code",
   "execution_count": 34,
   "id": "2f015b97",
   "metadata": {},
   "outputs": [
    {
     "data": {
      "text/plain": [
       "array([[13.3,  0.4],\n",
       "       [ 0.4,  0.2]])"
      ]
     },
     "execution_count": 34,
     "metadata": {},
     "output_type": "execute_result"
    }
   ],
   "source": [
    "thisClustersCOV = np.cov(covdata)\n",
    "thisClustersCOV"
   ]
  },
  {
   "cell_type": "code",
   "execution_count": 38,
   "id": "78beff52",
   "metadata": {},
   "outputs": [
    {
     "data": {
      "text/plain": [
       "array([[10.64,  0.32],\n",
       "       [ 0.32,  0.16]])"
      ]
     },
     "execution_count": 38,
     "metadata": {},
     "output_type": "execute_result"
    }
   ],
   "source": [
    "thisClustersCOV = np.cov(centered.T, bias=True)\n",
    "thisClustersCOV"
   ]
  },
  {
   "cell_type": "code",
   "execution_count": null,
   "id": "154ee887",
   "metadata": {},
   "outputs": [],
   "source": []
  }
 ],
 "metadata": {
  "kernelspec": {
   "display_name": "Python 3 (ipykernel)",
   "language": "python",
   "name": "python3"
  },
  "language_info": {
   "codemirror_mode": {
    "name": "ipython",
    "version": 3
   },
   "file_extension": ".py",
   "mimetype": "text/x-python",
   "name": "python",
   "nbconvert_exporter": "python",
   "pygments_lexer": "ipython3",
   "version": "3.8.0"
  }
 },
 "nbformat": 4,
 "nbformat_minor": 5
}
