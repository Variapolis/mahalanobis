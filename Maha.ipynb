{
 "cells": [
  {
   "cell_type": "code",
   "execution_count": 180,
   "id": "eb889038",
   "metadata": {},
   "outputs": [],
   "source": [
    "import matplotlib.pyplot as plt\n",
    "import pandas as pd\n",
    "import numpy as np\n",
    "from collections import Counter\n",
    "import random\n",
    "import math"
   ]
  },
  {
   "cell_type": "code",
   "execution_count": 14,
   "id": "835a9d9f",
   "metadata": {},
   "outputs": [],
   "source": [
    "inputString = '''\n",
    "1 1 1\n",
    "1 6 1\n",
    "2 1 2\n",
    "3 9 2\n",
    "3 10 2\n",
    "4 6 1\n",
    "5 6 2\n",
    "7 2 2\n",
    "8 1 1\n",
    "8 9 1\n",
    "9 1 1\n",
    "9 9 1\n",
    "9 10 2\n",
    "10 3 1\n",
    "10 5 2\n",
    "'''\n",
    "dataFromStr = [[int(e) for e in textline.split(' ')] for textline in inputString.strip().split('\\n')]"
   ]
  },
  {
   "cell_type": "code",
   "execution_count": 354,
   "id": "74c8a0d2",
   "metadata": {},
   "outputs": [
    {
     "data": {
      "text/plain": [
       "[[1, 1, 1],\n",
       " [1, 6, 1],\n",
       " [2, 1, 2],\n",
       " [3, 9, 2],\n",
       " [3, 10, 2],\n",
       " [4, 6, 1],\n",
       " [5, 6, 2],\n",
       " [7, 2, 2],\n",
       " [8, 1, 1],\n",
       " [8, 9, 1],\n",
       " [9, 1, 1],\n",
       " [9, 9, 1],\n",
       " [9, 10, 2],\n",
       " [10, 3, 1],\n",
       " [10, 5, 2]]"
      ]
     },
     "execution_count": 354,
     "metadata": {},
     "output_type": "execute_result"
    }
   ],
   "source": [
    "dataFromStr"
   ]
  },
  {
   "cell_type": "code",
   "execution_count": 361,
   "id": "dcb56a7f",
   "metadata": {},
   "outputs": [
    {
     "name": "stdout",
     "output_type": "stream",
     "text": [
      "[(1, 1), (1, 6), (4, 6), (8, 1), (8, 9), (9, 1), (9, 9), (10, 3)]\n",
      "[(2, 1), (3, 9), (3, 10), (5, 6), (7, 2), (9, 10), (10, 5)]\n"
     ]
    }
   ],
   "source": [
    "E1 = [tuple(row[:-1]) for row in dataFromStr if row[2]==1]\n",
    "E2 = [tuple(row[:-1]) for row in dataFromStr if row[2]==2]\n",
    "print(E1)\n",
    "print(E2)"
   ]
  },
  {
   "cell_type": "code",
   "execution_count": 29,
   "id": "90a640bd",
   "metadata": {},
   "outputs": [],
   "source": [
    "inputString = '''\n",
    "1 1 \n",
    "1 6 \n",
    "2 1 \n",
    "3 9 \n",
    "3 10\n",
    "4 6 \n",
    "5 6 \n",
    "7 2 \n",
    "8 1 \n",
    "8 9 \n",
    "9 1 \n",
    "9 9 \n",
    "9 10 \n",
    "10 3 \n",
    "10 5 \n",
    "'''\n",
    "dataFromStrNoClass = [[int(e) for e in textline.strip().split(' ')] for textline in inputString.strip().split('\\n')]"
   ]
  },
  {
   "cell_type": "code",
   "execution_count": 313,
   "id": "4921b3db",
   "metadata": {},
   "outputs": [
    {
     "data": {
      "text/plain": [
       "[[1, 1],\n",
       " [1, 6],\n",
       " [2, 1],\n",
       " [3, 9],\n",
       " [3, 10],\n",
       " [4, 6],\n",
       " [5, 6],\n",
       " [7, 2],\n",
       " [8, 1],\n",
       " [8, 9],\n",
       " [9, 1],\n",
       " [9, 9],\n",
       " [9, 10],\n",
       " [10, 3],\n",
       " [10, 5]]"
      ]
     },
     "execution_count": 313,
     "metadata": {},
     "output_type": "execute_result"
    }
   ],
   "source": [
    "dataFromStrNoClass"
   ]
  },
  {
   "cell_type": "code",
   "execution_count": 15,
   "id": "6d00156d",
   "metadata": {},
   "outputs": [],
   "source": [
    "df = pd.DataFrame(\n",
    "    data=dataFromStr,\n",
    "    columns=['x','y','label']\n",
    ")"
   ]
  },
  {
   "cell_type": "code",
   "execution_count": 16,
   "id": "00fcc52f",
   "metadata": {},
   "outputs": [
    {
     "data": {
      "text/html": [
       "<div>\n",
       "<style scoped>\n",
       "    .dataframe tbody tr th:only-of-type {\n",
       "        vertical-align: middle;\n",
       "    }\n",
       "\n",
       "    .dataframe tbody tr th {\n",
       "        vertical-align: top;\n",
       "    }\n",
       "\n",
       "    .dataframe thead th {\n",
       "        text-align: right;\n",
       "    }\n",
       "</style>\n",
       "<table border=\"1\" class=\"dataframe\">\n",
       "  <thead>\n",
       "    <tr style=\"text-align: right;\">\n",
       "      <th></th>\n",
       "      <th>x</th>\n",
       "      <th>y</th>\n",
       "      <th>label</th>\n",
       "    </tr>\n",
       "  </thead>\n",
       "  <tbody>\n",
       "    <tr>\n",
       "      <th>0</th>\n",
       "      <td>1</td>\n",
       "      <td>1</td>\n",
       "      <td>1</td>\n",
       "    </tr>\n",
       "    <tr>\n",
       "      <th>1</th>\n",
       "      <td>1</td>\n",
       "      <td>6</td>\n",
       "      <td>1</td>\n",
       "    </tr>\n",
       "    <tr>\n",
       "      <th>2</th>\n",
       "      <td>2</td>\n",
       "      <td>1</td>\n",
       "      <td>2</td>\n",
       "    </tr>\n",
       "    <tr>\n",
       "      <th>3</th>\n",
       "      <td>3</td>\n",
       "      <td>9</td>\n",
       "      <td>2</td>\n",
       "    </tr>\n",
       "    <tr>\n",
       "      <th>4</th>\n",
       "      <td>3</td>\n",
       "      <td>10</td>\n",
       "      <td>2</td>\n",
       "    </tr>\n",
       "    <tr>\n",
       "      <th>5</th>\n",
       "      <td>4</td>\n",
       "      <td>6</td>\n",
       "      <td>1</td>\n",
       "    </tr>\n",
       "    <tr>\n",
       "      <th>6</th>\n",
       "      <td>5</td>\n",
       "      <td>6</td>\n",
       "      <td>2</td>\n",
       "    </tr>\n",
       "    <tr>\n",
       "      <th>7</th>\n",
       "      <td>7</td>\n",
       "      <td>2</td>\n",
       "      <td>2</td>\n",
       "    </tr>\n",
       "    <tr>\n",
       "      <th>8</th>\n",
       "      <td>8</td>\n",
       "      <td>1</td>\n",
       "      <td>1</td>\n",
       "    </tr>\n",
       "    <tr>\n",
       "      <th>9</th>\n",
       "      <td>8</td>\n",
       "      <td>9</td>\n",
       "      <td>1</td>\n",
       "    </tr>\n",
       "    <tr>\n",
       "      <th>10</th>\n",
       "      <td>9</td>\n",
       "      <td>1</td>\n",
       "      <td>1</td>\n",
       "    </tr>\n",
       "    <tr>\n",
       "      <th>11</th>\n",
       "      <td>9</td>\n",
       "      <td>9</td>\n",
       "      <td>1</td>\n",
       "    </tr>\n",
       "    <tr>\n",
       "      <th>12</th>\n",
       "      <td>9</td>\n",
       "      <td>10</td>\n",
       "      <td>2</td>\n",
       "    </tr>\n",
       "    <tr>\n",
       "      <th>13</th>\n",
       "      <td>10</td>\n",
       "      <td>3</td>\n",
       "      <td>1</td>\n",
       "    </tr>\n",
       "    <tr>\n",
       "      <th>14</th>\n",
       "      <td>10</td>\n",
       "      <td>5</td>\n",
       "      <td>2</td>\n",
       "    </tr>\n",
       "  </tbody>\n",
       "</table>\n",
       "</div>"
      ],
      "text/plain": [
       "     x   y  label\n",
       "0    1   1      1\n",
       "1    1   6      1\n",
       "2    2   1      2\n",
       "3    3   9      2\n",
       "4    3  10      2\n",
       "5    4   6      1\n",
       "6    5   6      2\n",
       "7    7   2      2\n",
       "8    8   1      1\n",
       "9    8   9      1\n",
       "10   9   1      1\n",
       "11   9   9      1\n",
       "12   9  10      2\n",
       "13  10   3      1\n",
       "14  10   5      2"
      ]
     },
     "execution_count": 16,
     "metadata": {},
     "output_type": "execute_result"
    }
   ],
   "source": [
    "df"
   ]
  },
  {
   "cell_type": "code",
   "execution_count": 25,
   "id": "252687fe",
   "metadata": {},
   "outputs": [
    {
     "data": {
      "text/plain": [
       "<matplotlib.collections.PathCollection at 0x1c5dedb4700>"
      ]
     },
     "execution_count": 25,
     "metadata": {},
     "output_type": "execute_result"
    },
    {
     "data": {
      "image/png": "[encoded data removed]",
      "text/plain": [
       "<Figure size 432x288 with 1 Axes>"
      ]
     },
     "metadata": {
      "needs_background": "light"
     },
     "output_type": "display_data"
    }
   ],
   "source": [
    "fig, ax = plt.subplots(1,1)\n",
    "\n",
    "# ax.scatter(x=df['x'], y=df['y'])\n",
    "\n",
    "ax.scatter(df['x'], df['y'])\n"
   ]
  },
  {
   "cell_type": "code",
   "execution_count": 23,
   "id": "71dd7d22",
   "metadata": {},
   "outputs": [
    {
     "data": {
      "text/plain": [
       "<matplotlib.collections.PathCollection at 0x1c5dedabfd0>"
      ]
     },
     "execution_count": 23,
     "metadata": {},
     "output_type": "execute_result"
    },
    {
     "data": {
      "image/png": "[encoded data removed]",
      "text/plain": [
       "<Figure size 432x288 with 1 Axes>"
      ]
     },
     "metadata": {
      "needs_background": "light"
     },
     "output_type": "display_data"
    }
   ],
   "source": [
    "fig, ax = plt.subplots(1,1)\n",
    "\n",
    "colors = {1: 'red', 2: 'blue'}\n",
    "\n",
    "# ax.scatter(x=df['x'], y=df['y'])\n",
    "\n",
    "ax.scatter(df['x'], df['y'], c=df['label'].map(colors))"
   ]
  },
  {
   "cell_type": "code",
   "execution_count": 314,
   "id": "b6cd02c6",
   "metadata": {},
   "outputs": [],
   "source": [
    "def get_initial_means(array, k=2, method='rand'):\n",
    "    \"\"\"\n",
    "    Picks k random points from the 2D array \n",
    "    (without replacement) to use as initial \n",
    "    cluster means\n",
    "\n",
    "    params:\n",
    "    array = numpy.ndarray[numpy.ndarray[float]] - m x n | datapoints x features\n",
    "\n",
    "    k = int\n",
    "\n",
    "    returns:\n",
    "    initial_means = numpy.ndarray[numpy.ndarray[float]]\n",
    "    \"\"\"\n",
    "    # TODO: finish this function\n",
    "    if method != 'rand':\n",
    "        e1_points = df[df['label']==1]\n",
    "        e2_points = df[df['label']==2]\n",
    "\n",
    "        e1_xMean = e1_points['x'].mean()\n",
    "        e1_yMean = e1_points['y'].mean()\n",
    "\n",
    "        e2_xMean = e2_points['x'].mean()\n",
    "        e2_yMean = e2_points['y'].mean()\n",
    "\n",
    "        meanOfE1 = (e1_xMean, e1_yMean)\n",
    "        meanOfE2 = (e2_xMean, e2_yMean)\n",
    "        ret = [\n",
    "            meanOfE1,\n",
    "            meanOfE2\n",
    "        ]\n",
    "    else:\n",
    "        # ret = [\n",
    "            # [random.randint(1,10),random.randint(1,10)], # x,y of point 1\n",
    "            # [random.randint(1,10),random.randint(1,10)],\n",
    "            # [random.randint(1,10),random.randint(1,10)],\n",
    "        # ]\n",
    "        ret = random.sample(array, k=3)\n",
    "    return np.array(ret)\n",
    "\n"
   ]
  },
  {
   "cell_type": "code",
   "execution_count": 316,
   "id": "cdb53034",
   "metadata": {},
   "outputs": [
    {
     "data": {
      "text/plain": [
       "array([[9, 9],\n",
       "       [8, 1],\n",
       "       [4, 6]])"
      ]
     },
     "execution_count": 316,
     "metadata": {},
     "output_type": "execute_result"
    }
   ],
   "source": [
    "initMeans = get_initial_means(dataFromStrNoClass)\n",
    "initMeans"
   ]
  },
  {
   "cell_type": "code",
   "execution_count": 317,
   "id": "f47ab4db",
   "metadata": {},
   "outputs": [
    {
     "data": {
      "text/plain": [
       "<matplotlib.collections.PathCollection at 0x1c5e7270c10>"
      ]
     },
     "execution_count": 317,
     "metadata": {},
     "output_type": "execute_result"
    },
    {
     "data": {
      "image/png": "[encoded data removed]",
      "text/plain": [
       "<Figure size 432x288 with 1 Axes>"
      ]
     },
     "metadata": {
      "needs_background": "light"
     },
     "output_type": "display_data"
    }
   ],
   "source": [
    "fig, ax = plt.subplots(1,1)\n",
    "\n",
    "colors = {1: 'red', 2: 'blue'}\n",
    "\n",
    "ax.scatter(df['x'], df['y'], c=df['label'].map(colors))\n",
    "ax.scatter([initMeans[0][0]], [initMeans[0][1]], marker='x',c='orange')\n",
    "ax.scatter([initMeans[1][0]], [initMeans[1][1]], marker='x',c='cyan')\n",
    "ax.scatter([initMeans[2][0]], [initMeans[2][1]], marker='x',c='black')"
   ]
  },
  {
   "cell_type": "code",
   "execution_count": 338,
   "id": "8dbbdb77",
   "metadata": {},
   "outputs": [
    {
     "ename": "IndentationError",
     "evalue": "expected an indented block (3557093646.py, line 130)",
     "output_type": "error",
     "traceback": [
      "\u001b[1;36m  Input \u001b[1;32mIn [338]\u001b[1;36m\u001b[0m\n\u001b[1;33m    if DEBUG:\u001b[0m\n\u001b[1;37m    ^\u001b[0m\n\u001b[1;31mIndentationError\u001b[0m\u001b[1;31m:\u001b[0m expected an indented block\n"
     ]
    }
   ],
   "source": [
    "def k_means_step(X, k, means, DEBUG=False):\n",
    "    \"\"\"\n",
    "    A single update/step of the K-means algorithm\n",
    "    Based on a input X and current mean estimate,\n",
    "    predict clusters for each of the pixels and \n",
    "    calculate new means. \n",
    "    params:\n",
    "    X = numpy.ndarray[numpy.ndarray[float]] - m x n | pixels x features (already flattened)\n",
    "        (15,2)\n",
    "    k = int\n",
    "    means = numpy.ndarray[numpy.ndarray[float]] - k x n\n",
    "        (2,2)\n",
    "\n",
    "    returns:\n",
    "    (new_means, clusters)\n",
    "    new_means = numpy.ndarray[numpy.ndarray[float]] - k x n\n",
    "    clusters = numpy.ndarray[int] - m sized vector\n",
    "    \"\"\"\n",
    "    dataset = X\n",
    "\n",
    "    # Step 2\n",
    "    pointToCluster = {} # x,y point example from dataset -> cluster label\n",
    "    for point in dataset:\n",
    "        dists = [(np.linalg.norm(point-means[i]), i) for i in range(k)]\n",
    "        bestDist = min(dists)\n",
    "        closestClusterLabel = bestDist[1]\n",
    "        pointToCluster[tuple(point.tolist())] = closestClusterLabel\n",
    "    \n",
    "    if DEBUG:\n",
    "        print('====== BEGIN K_M STEP ======')\n",
    "        print('clusters:', c)\n",
    "        print('---')\n",
    "        print(pointToCluster)\n",
    "        print('\\n')\n",
    "    \n",
    "    # Step 3: Covar Mtx for each Cluster\n",
    "    covMatricies = {} # clusterLabel -> cov\n",
    "    clusterSizes = {} # clusterLabel -> cluster size\n",
    "    clusterLabels = set(pointToCluster.values())\n",
    "    for clusterLabel in clusterLabels: # 1,2,3\n",
    "        points = {\n",
    "            point:label\n",
    "            for point, label in pointToCluster.items()\n",
    "            if label == clusterLabel\n",
    "        }\n",
    "        print('points for cluster', clusterLabel, points)\n",
    "        listOfThisClustersPoints = list(points.keys())\n",
    "\n",
    "        x_values, y_values = zip(*listOfThisClustersPoints)\n",
    "        covdata = np.vstack((x_values, y_values))\n",
    "        thisClustersCOV = np.cov(covdata)\n",
    "        \n",
    "        covMatricies[clusterLabel] = thisClustersCOV\n",
    "        clusterSizes[clusterLabel] = len(listOfThisClustersPoints)\n",
    "    # end for each cluster, get COV\n",
    "    \n",
    "    if DEBUG:\n",
    "        print('-'*15)\n",
    "        print('covMatricies')\n",
    "        for label,cov in covMatricies.items():\n",
    "            print('covar matrix',label)\n",
    "            print(cov)\n",
    "        print('clusterSizes')\n",
    "        print(clusterSizes)\n",
    "        print('-'*15)\n",
    "        print('inverse COV matrices')\n",
    "    \n",
    "    # Step 4 Setup: Calculate required inv-cov-mtx's and Cluster Means\n",
    "    inverseCOVs = {}\n",
    "    for clusterLabel,cov in covMatricies.items():\n",
    "        inv = np.linalg.inv(cov)\n",
    "        inverseCOVs[clusterLabel] = inv * -1\n",
    "        if DEBUG:\n",
    "            print(clusterLabel)\n",
    "            print(inverseCOVs[clusterLabel])\n",
    "            print(clusterLabel)\n",
    "    \n",
    "    if DEBUG:\n",
    "        print('-'*15)\n",
    "        print('Cluster Means')\n",
    "    clusterMeans = {} # clusterLabel -> [x_mean, y_mean]\n",
    "    for clusterLabel in clusterLabels:\n",
    "        clusterPoints = [point for point,cluster in pointToCluster.items() if cluster==clusterLabel]\n",
    "        clusterMean = np.mean(clusterPoints, axis=0)\n",
    "        clusterMeans[clusterLabel] = clusterMean\n",
    "        if DEBUG:\n",
    "            print('\\nCluster', clusterLabel)\n",
    "            print('Points',clusterPoints)\n",
    "            print('XY Mean',clusterMean)\n",
    "    if DEBUG:\n",
    "        print('-'*15)\n",
    "        print()\n",
    "    \n",
    "    def mahaDist(point, clusterLabel, DEBUG=True):\n",
    "        meanDiff = point - clusterMeans[clusterLabel] # v-m\n",
    "        \n",
    "        tempMtx = np.matmul(meanDiff, covMatricies[clusterLabel])\n",
    "        \n",
    "        sqDist = np.matmul(tempMtx, np.transpose(tempMtx))\n",
    "        \n",
    "        finalMHdist = math.sqrt(sqDist)\n",
    "        if DEBUG:\n",
    "            print(f'Mahalanobis Dist for {point} to cluster {clusterLabel}')\n",
    "            print('Mean Difference')\n",
    "            print(meanDiff)\n",
    "            print('*')\n",
    "            print('Inverse Cov Matrix')\n",
    "            print(covMatricies[clusterLabel])\n",
    "            print('temp Matrix')\n",
    "            print(tempMtx)\n",
    "            print('square distance')\n",
    "            print(sqDist)\n",
    "            print('final MH dist')\n",
    "            print(finalMHdist,'\\n')\n",
    "        return finalMHdist\n",
    "    \n",
    "    # Step 4 & 5: For each point, calculate MD dist to each cluster\n",
    "    #             Then, assign to min-dist cluster label\n",
    "    pointToCluster = {} # x,y point example from dataset -> cluster label\n",
    "    for point in dataset:  \n",
    "        dists = [\n",
    "            (mahaDist(point, clusterLabel), clusterLabel)\n",
    "            for clusterLabel in clusterLabels\n",
    "        ]\n",
    "        bestDist = min(dists)\n",
    "        closestClusterLabel = bestDist[1]\n",
    "        pointToCluster[tuple(point.tolist())] = closestClusterLabel\n",
    "        if DEBUG:\n",
    "            print(f'Point {point} To Cluster Distances:', dists)\n",
    "    \n",
    "    if DEBUG:\n",
    "        print('final pointToCluster')\n",
    "        print(pointToCluster)\n",
    "    curClusters = [\n",
    "        [point for point,label in pointToCluster.items() if label==clusterLabel]\n",
    "        for clusterLabel in clusterLabels\n",
    "    ]\n",
    "#     print( list(clusterMeans.values()) )\n",
    "#     print(curClusters)\n",
    "    \n",
    "    return list(clusterMeans.values()), curClusters"
   ]
  },
  {
   "cell_type": "code",
   "execution_count": 259,
   "id": "c427a3b3",
   "metadata": {},
   "outputs": [
    {
     "name": "stdout",
     "output_type": "stream",
     "text": [
      "[array([8.83333333, 3.5       ]), array([4.8, 8.8]), array([3. , 3.5])]\n",
      "[[(4, 6), (9, 9), (10, 3), (10, 5)], [(3, 9), (3, 10), (5, 6), (8, 9), (9, 10)], [(1, 1), (1, 6), (2, 1), (7, 2), (8, 1), (9, 1)]]\n"
     ]
    },
    {
     "data": {
      "text/plain": [
       "([array([8.83333333, 3.5       ]), array([4.8, 8.8]), array([3. , 3.5])],\n",
       " [[(4, 6), (9, 9), (10, 3), (10, 5)],\n",
       "  [(3, 9), (3, 10), (5, 6), (8, 9), (9, 10)],\n",
       "  [(1, 1), (1, 6), (2, 1), (7, 2), (8, 1), (9, 1)]])"
      ]
     },
     "execution_count": 259,
     "metadata": {},
     "output_type": "execute_result"
    }
   ],
   "source": [
    "k_means_step(np.array(dataFromStrNoClass), k=3, means=initMeans, DEBUG=True)"
   ]
  },
  {
   "cell_type": "code",
   "execution_count": 358,
   "id": "b62e786a",
   "metadata": {},
   "outputs": [],
   "source": [
    "def vizIter(curMeans, clusterData):\n",
    "    fig, ax = plt.subplots(1,1)\n",
    "    colors = ['red','blue','green']\n",
    "    for i,clusterXYs in enumerate(clusterData):\n",
    "        xy = clusterXYs[0]\n",
    "        print(xy, type(xy))\n",
    "        xValues_e1 = [xy[0] for xy in clusterXYs if xy in E1]\n",
    "        yValues_e1 = [xy[1] for xy in clusterXYs if xy in E1]\n",
    "        ax.scatter(xValues_e1, yValues_e1, marker='P', c=colors[i])\n",
    "        \n",
    "        xValues_e2 = [xy[0] for xy in clusterXYs if xy in E2]\n",
    "        yValues_e2 = [xy[1] for xy in clusterXYs if xy in E2]\n",
    "        ax.scatter(xValues_e2, yValues_e2, marker='+', c=colors[i])\n",
    "        \n",
    "        thisMean = curMeans[i]\n",
    "        ax.scatter([thisMean[0]], [thisMean[1]], marker='x', c=colors[i])\n",
    "    plt.show()\n",
    "    return"
   ]
  },
  {
   "cell_type": "code",
   "execution_count": 347,
   "id": "4532739e",
   "metadata": {},
   "outputs": [],
   "source": [
    "def k_means_segment(dataset, k=2, initial_means=None, DEBUG=False):\n",
    "    \"\"\"\n",
    "    Separate the provided RGB values into\n",
    "    k separate clusters using the k-means algorithm,\n",
    "    then return an updated version of the image\n",
    "    with the original values replaced with\n",
    "    the corresponding cluster values.\n",
    "\n",
    "    params:\n",
    "    image_values = numpy.ndarray[numpy.ndarray[numpy.ndarray[float]]] - r x c x ch\n",
    "    k = int\n",
    "    initial_means = numpy.ndarray[numpy.ndarray[float]] or None\n",
    "\n",
    "    returns:\n",
    "    updated_image_values = numpy.ndarray[numpy.ndarray[numpy.ndarray[float]]] - r x c x ch\n",
    "    \"\"\"\n",
    "    if initial_means is None:\n",
    "        print('creating initial means...')\n",
    "        initial_means = get_initial_means(dataset, k)\n",
    "    \n",
    "    if DEBUG:\n",
    "        print('init means')\n",
    "        print(initial_means)\n",
    "        print('-'*15)\n",
    "\n",
    "    print('1st call to k_means')\n",
    "    curMeans, curClusters = k_means_step(dataset, k, initial_means, DEBUG=True)\n",
    "    vizIter(curMeans, curClusters)\n",
    "    if DEBUG:\n",
    "        print('curMeans')\n",
    "        print(curMeans)\n",
    "        print('curClusters')\n",
    "        print(curClusters)\n",
    "        print()\n",
    "    \n",
    "    iterStyle = 2\n",
    "    if iterStyle == 2:\n",
    "        print('2nd call to k_means')\n",
    "        curMeans, curClusters = k_means_step(dataset, k, curMeans, DEBUG=True)\n",
    "        vizIter(curMeans, curClusters)\n",
    "        prevClusters = tuple([tuple(c) for c in curClusters])\n",
    "    else:\n",
    "        prevClusters = tuple([tuple(c) for c in curClusters])\n",
    "        for i in range(10):\n",
    "            curMeans, curClusters = k_means_step(dataset, k, curMeans, DEBUG=True)\n",
    "            vizIter(curMeans, curClusters)\n",
    "            if prevClusters == tuple([tuple(c) for c in curClusters]):\n",
    "                break\n",
    "            prevClusters = tuple([tuple(c) for c in curClusters])\n",
    "    \n",
    "    if DEBUG:\n",
    "        print('====== END K_M STEPPING ======')\n",
    "        print('curMeans')\n",
    "        print(curMeans)\n",
    "        print('curClusters')\n",
    "        print(curClusters)\n",
    "    \n",
    "    return curMeans, prevClusters\n",
    "    '''\n",
    "    updated_image_values = np.zeros(image_values.shape) # (233, 502, 3)\n",
    "    for i in range(len(image_values)): # i in 0...233\n",
    "        for j in range(len(image_values[i])): # j in 0...502\n",
    "            # updated_image_values[i][j] = np.array( [curClusters[i][j]] )\n",
    "            updated_image_values[i][j] = curMeans[curClusters[i][j]]\n",
    "    '''\n",
    "#     index_array = curClusters.ravel()\n",
    "    # Use index_array to index into curMeans and reshape the result to the shape of image_values\n",
    "#     updated_dataset = curMeans[index_array].reshape(dataset.shape)\n",
    "    \n",
    "#     return updated_dataset"
   ]
  },
  {
   "cell_type": "code",
   "execution_count": 348,
   "id": "30224b91",
   "metadata": {},
   "outputs": [],
   "source": [
    "initMeans = [\n",
    "    (2, 1),\n",
    "    (7, 2),\n",
    "    (9, 10)\n",
    "]"
   ]
  },
  {
   "cell_type": "code",
   "execution_count": 352,
   "id": "d229797b",
   "metadata": {},
   "outputs": [
    {
     "name": "stdout",
     "output_type": "stream",
     "text": [
      "[[ 1  1]\n",
      " [ 3  9]\n",
      " [ 9 10]]\n"
     ]
    }
   ],
   "source": [
    "initMeans = get_initial_means(dataFromStrNoClass)\n",
    "print(initMeans)"
   ]
  },
  {
   "cell_type": "code",
   "execution_count": 362,
   "id": "09c13adc",
   "metadata": {},
   "outputs": [
    {
     "name": "stdout",
     "output_type": "stream",
     "text": [
      "[[ 1  1]\n",
      " [ 3  9]\n",
      " [ 9 10]]\n",
      "init means\n",
      "[[ 1  1]\n",
      " [ 3  9]\n",
      " [ 9 10]]\n",
      "---------------\n",
      "1st call to k_means\n",
      "====== BEGIN K_M STEP ======\n",
      "clusters: Counter({0: 5, 1: 5, 2: 5})\n",
      "---\n",
      "{(1, 1): 0, (1, 6): 1, (2, 1): 0, (3, 9): 1, (3, 10): 1, (4, 6): 1, (5, 6): 1, (7, 2): 0, (8, 1): 0, (8, 9): 2, (9, 1): 0, (9, 9): 2, (9, 10): 2, (10, 3): 2, (10, 5): 2}\n",
      "\n",
      "\n",
      "---------------\n",
      "covMatricies\n",
      "covar matrix 0\n",
      "[[13.3  0.4]\n",
      " [ 0.4  0.2]]\n",
      "covar matrix 1\n",
      "[[ 2.2  -0.35]\n",
      " [-0.35  3.8 ]]\n",
      "covar matrix 2\n",
      "[[ 0.7  -2.05]\n",
      " [-2.05  9.2 ]]\n",
      "---------------\n",
      "inverse COV matrices\n",
      "0\n",
      "[[-0.08  0.16]\n",
      " [ 0.16 -5.32]]\n",
      "0\n",
      "1\n",
      "[[-0.46130501 -0.04248862]\n",
      " [-0.04248862 -0.26707132]]\n",
      "1\n",
      "2\n",
      "[[-4.11173184 -0.91620112]\n",
      " [-0.91620112 -0.31284916]]\n",
      "2\n",
      "---------------\n",
      "Cluster Means\n",
      "\n",
      "Cluster 0\n",
      "Points [(1, 1), (2, 1), (7, 2), (8, 1), (9, 1)]\n",
      "XY Mean [5.4 1.2]\n",
      "\n",
      "Cluster 1\n",
      "Points [(1, 6), (3, 9), (3, 10), (4, 6), (5, 6)]\n",
      "XY Mean [3.2 7.4]\n",
      "\n",
      "Cluster 2\n",
      "Points [(8, 9), (9, 9), (9, 10), (10, 3), (10, 5)]\n",
      "XY Mean [9.2 7.2]\n",
      "---------------\n",
      "\n",
      "final pointToCluster\n",
      "{(1, 1): 1, (1, 6): 1, (2, 1): 1, (3, 9): 1, (3, 10): 1, (4, 6): 2, (5, 6): 2, (7, 2): 0, (8, 1): 1, (8, 9): 1, (9, 1): 1, (9, 9): 1, (9, 10): 1, (10, 3): 1, (10, 5): 1}\n",
      "(7, 2) <class 'tuple'>\n",
      "(1, 1) <class 'tuple'>\n",
      "(4, 6) <class 'tuple'>\n"
     ]
    },
    {
     "data": {
      "image/png": "[encoded data removed]",
      "text/plain": [
       "<Figure size 432x288 with 1 Axes>"
      ]
     },
     "metadata": {
      "needs_background": "light"
     },
     "output_type": "display_data"
    },
    {
     "name": "stdout",
     "output_type": "stream",
     "text": [
      "curMeans\n",
      "[array([5.4, 1.2]), array([3.2, 7.4]), array([9.2, 7.2])]\n",
      "curClusters\n",
      "[[(7, 2)], [(1, 1), (1, 6), (2, 1), (3, 9), (3, 10), (8, 1), (8, 9), (9, 1), (9, 9), (9, 10), (10, 3), (10, 5)], [(4, 6), (5, 6)]]\n",
      "\n",
      "2nd call to k_means\n",
      "====== BEGIN K_M STEP ======\n",
      "clusters: Counter({0: 5, 1: 5, 2: 5})\n",
      "---\n",
      "{(1, 1): 0, (1, 6): 1, (2, 1): 0, (3, 9): 1, (3, 10): 1, (4, 6): 1, (5, 6): 1, (7, 2): 0, (8, 1): 0, (8, 9): 2, (9, 1): 0, (9, 9): 2, (9, 10): 2, (10, 3): 2, (10, 5): 2}\n",
      "\n",
      "\n",
      "---------------\n",
      "covMatricies\n",
      "covar matrix 0\n",
      "[[13.3  0.4]\n",
      " [ 0.4  0.2]]\n",
      "covar matrix 1\n",
      "[[ 2.2  -0.35]\n",
      " [-0.35  3.8 ]]\n",
      "covar matrix 2\n",
      "[[ 0.7  -2.05]\n",
      " [-2.05  9.2 ]]\n",
      "---------------\n",
      "inverse COV matrices\n",
      "0\n",
      "[[-0.08  0.16]\n",
      " [ 0.16 -5.32]]\n",
      "0\n",
      "1\n",
      "[[-0.46130501 -0.04248862]\n",
      " [-0.04248862 -0.26707132]]\n",
      "1\n",
      "2\n",
      "[[-4.11173184 -0.91620112]\n",
      " [-0.91620112 -0.31284916]]\n",
      "2\n",
      "---------------\n",
      "Cluster Means\n",
      "\n",
      "Cluster 0\n",
      "Points [(1, 1), (2, 1), (7, 2), (8, 1), (9, 1)]\n",
      "XY Mean [5.4 1.2]\n",
      "\n",
      "Cluster 1\n",
      "Points [(1, 6), (3, 9), (3, 10), (4, 6), (5, 6)]\n",
      "XY Mean [3.2 7.4]\n",
      "\n",
      "Cluster 2\n",
      "Points [(8, 9), (9, 9), (9, 10), (10, 3), (10, 5)]\n",
      "XY Mean [9.2 7.2]\n",
      "---------------\n",
      "\n",
      "final pointToCluster\n",
      "{(1, 1): 1, (1, 6): 1, (2, 1): 1, (3, 9): 1, (3, 10): 1, (4, 6): 2, (5, 6): 2, (7, 2): 0, (8, 1): 1, (8, 9): 1, (9, 1): 1, (9, 9): 1, (9, 10): 1, (10, 3): 1, (10, 5): 1}\n",
      "(7, 2) <class 'tuple'>\n",
      "(1, 1) <class 'tuple'>\n",
      "(4, 6) <class 'tuple'>\n"
     ]
    },
    {
     "data": {
      "image/png": "[encoded data removed]",
      "text/plain": [
       "<Figure size 432x288 with 1 Axes>"
      ]
     },
     "metadata": {
      "needs_background": "light"
     },
     "output_type": "display_data"
    },
    {
     "name": "stdout",
     "output_type": "stream",
     "text": [
      "====== END K_M STEPPING ======\n",
      "curMeans\n",
      "[array([5.4, 1.2]), array([3.2, 7.4]), array([9.2, 7.2])]\n",
      "curClusters\n",
      "[[(7, 2)], [(1, 1), (1, 6), (2, 1), (3, 9), (3, 10), (8, 1), (8, 9), (9, 1), (9, 9), (9, 10), (10, 3), (10, 5)], [(4, 6), (5, 6)]]\n"
     ]
    },
    {
     "data": {
      "text/plain": [
       "([array([5.4, 1.2]), array([3.2, 7.4]), array([9.2, 7.2])],\n",
       " (((7, 2),),\n",
       "  ((1, 1),\n",
       "   (1, 6),\n",
       "   (2, 1),\n",
       "   (3, 9),\n",
       "   (3, 10),\n",
       "   (8, 1),\n",
       "   (8, 9),\n",
       "   (9, 1),\n",
       "   (9, 9),\n",
       "   (9, 10),\n",
       "   (10, 3),\n",
       "   (10, 5)),\n",
       "  ((4, 6), (5, 6))))"
      ]
     },
     "execution_count": 362,
     "metadata": {},
     "output_type": "execute_result"
    }
   ],
   "source": [
    "print(initMeans)\n",
    "k_means_segment(np.array(dataFromStrNoClass),\n",
    "                k=3,\n",
    "                initial_means=initMeans,\n",
    "                DEBUG=True\n",
    ")"
   ]
  },
  {
   "cell_type": "code",
   "execution_count": null,
   "id": "5272e597",
   "metadata": {},
   "outputs": [],
   "source": []
  },
  {
   "cell_type": "code",
   "execution_count": null,
   "id": "f3c05a3c",
   "metadata": {},
   "outputs": [],
   "source": []
  }
 ],
 "metadata": {
  "kernelspec": {
   "display_name": "Python 3 (ipykernel)",
   "language": "python",
   "name": "python3"
  },
  "language_info": {
   "codemirror_mode": {
    "name": "ipython",
    "version": 3
   },
   "file_extension": ".py",
   "mimetype": "text/x-python",
   "name": "python",
   "nbconvert_exporter": "python",
   "pygments_lexer": "ipython3",
   "version": "3.8.0"
  }
 },
 "nbformat": 4,
 "nbformat_minor": 5
}
